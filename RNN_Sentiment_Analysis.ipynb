{
  "cells": [
    {
      "cell_type": "code",
      "execution_count": null,
      "metadata": {
        "id": "RwYp_PIQjQxv"
      },
      "outputs": [],
      "source": [
        "# Imports\n",
        "from IPython.display import clear_output\n",
        "import pandas as pd\n",
        "import numpy as np\n",
        "import torch\n",
        "import torch.nn as nn\n",
        "import spacy\n",
        "import re\n",
        "import string\n",
        "from collections import Counter\n",
        "import matplotlib.pyplot as plt\n",
        "from sklearn.model_selection import train_test_split\n",
        "from torch.utils.data import Dataset, DataLoader\n",
        "import tqdm\n",
        "\n",
        "import warnings\n",
        "warnings.filterwarnings('ignore')"
      ]
    },
    {
      "cell_type": "code",
      "execution_count": null,
      "metadata": {
        "id": "FBvZraf2jYIG"
      },
      "outputs": [],
      "source": [
        "# Downloading the Spam SMS Dataset\n",
        "!wget https://archive.ics.uci.edu/ml/machine-learning-databases/00228/smsspamcollection.zip\n",
        "\n",
        "!unzip /content/smsspamcollection.zip\n",
        "!rm /content/readme\n",
        "!rm !rm /content/smsspamcollection.zip\n",
        "\n",
        "clear_output()"
      ]
    },
    {
      "cell_type": "code",
      "execution_count": null,
      "metadata": {
        "colab": {
          "base_uri": "https://localhost:8080/"
        },
        "id": "LGZd5K0P0rnI",
        "outputId": "4445e43a-5f2b-4924-c944-127009c61a51"
      },
      "outputs": [
        {
          "name": "stdout",
          "output_type": "stream",
          "text": [
            "unzip:  cannot find or open /content/glove.6B.50d.txt.zip, /content/glove.6B.50d.txt.zip.zip or /content/glove.6B.50d.txt.zip.ZIP.\n"
          ]
        }
      ],
      "source": [
        "!unzip /content/glove.6B.50d.txt.zip"
      ]
    },
    {
      "cell_type": "code",
      "execution_count": null,
      "metadata": {
        "id": "n1HceqWHjYKY"
      },
      "outputs": [],
      "source": [
        "# Downloading the GloVe embeddings database\n",
        "# 6B implies the size of the vocabulary is 6 billion words (on which it was trained)\n",
        "# 50d means the dimensionality (size) of each word is 50\n",
        "!wget https://nlp.stanford.edu/data/glove.6B.zip\n",
        "\n",
        "!unzip /content/glove.6B.zip\n",
        "\n",
        "!rm -rf /content/glove.6B.zip\n",
        "!rm /content/glove.6B.100d.txt\n",
        "!rm /content/glove.6B.200d.txt\n",
        "!rm /content/glove.6B.300d.txt\n",
        "\n",
        "clear_output()"
      ]
    },
    {
      "cell_type": "code",
      "execution_count": null,
      "metadata": {
        "colab": {
          "base_uri": "https://localhost:8080/",
          "height": 339
        },
        "id": "G_9VC1KGcH05",
        "outputId": "109f9221-d7cd-4278-d9d2-7e06e57f5616"
      },
      "outputs": [
        {
          "ename": "MessageError",
          "evalue": "Error: credential propagation was unsuccessful",
          "output_type": "error",
          "traceback": [
            "\u001b[0;31m---------------------------------------------------------------------------\u001b[0m",
            "\u001b[0;31mMessageError\u001b[0m                              Traceback (most recent call last)",
            "\u001b[0;32m<ipython-input-6-673a8ea22fcf>\u001b[0m in \u001b[0;36m<cell line: 0>\u001b[0;34m()\u001b[0m\n\u001b[1;32m      1\u001b[0m \u001b[0;32mfrom\u001b[0m \u001b[0mgoogle\u001b[0m\u001b[0;34m.\u001b[0m\u001b[0mcolab\u001b[0m \u001b[0;32mimport\u001b[0m \u001b[0mdrive\u001b[0m\u001b[0;34m\u001b[0m\u001b[0;34m\u001b[0m\u001b[0m\n\u001b[1;32m      2\u001b[0m \u001b[0;31m# Mount(Connects) Google drive to colab\u001b[0m\u001b[0;34m\u001b[0m\u001b[0;34m\u001b[0m\u001b[0m\n\u001b[0;32m----> 3\u001b[0;31m \u001b[0mdrive\u001b[0m\u001b[0;34m.\u001b[0m\u001b[0mmount\u001b[0m\u001b[0;34m(\u001b[0m\u001b[0;34m'/content/drive'\u001b[0m\u001b[0;34m)\u001b[0m\u001b[0;34m\u001b[0m\u001b[0;34m\u001b[0m\u001b[0m\n\u001b[0m",
            "\u001b[0;32m/usr/local/lib/python3.11/dist-packages/google/colab/drive.py\u001b[0m in \u001b[0;36mmount\u001b[0;34m(mountpoint, force_remount, timeout_ms, readonly)\u001b[0m\n\u001b[1;32m     98\u001b[0m \u001b[0;32mdef\u001b[0m \u001b[0mmount\u001b[0m\u001b[0;34m(\u001b[0m\u001b[0mmountpoint\u001b[0m\u001b[0;34m,\u001b[0m \u001b[0mforce_remount\u001b[0m\u001b[0;34m=\u001b[0m\u001b[0;32mFalse\u001b[0m\u001b[0;34m,\u001b[0m \u001b[0mtimeout_ms\u001b[0m\u001b[0;34m=\u001b[0m\u001b[0;36m120000\u001b[0m\u001b[0;34m,\u001b[0m \u001b[0mreadonly\u001b[0m\u001b[0;34m=\u001b[0m\u001b[0;32mFalse\u001b[0m\u001b[0;34m)\u001b[0m\u001b[0;34m:\u001b[0m\u001b[0;34m\u001b[0m\u001b[0;34m\u001b[0m\u001b[0m\n\u001b[1;32m     99\u001b[0m   \u001b[0;34m\"\"\"Mount your Google Drive at the specified mountpoint path.\"\"\"\u001b[0m\u001b[0;34m\u001b[0m\u001b[0;34m\u001b[0m\u001b[0m\n\u001b[0;32m--> 100\u001b[0;31m   return _mount(\n\u001b[0m\u001b[1;32m    101\u001b[0m       \u001b[0mmountpoint\u001b[0m\u001b[0;34m,\u001b[0m\u001b[0;34m\u001b[0m\u001b[0;34m\u001b[0m\u001b[0m\n\u001b[1;32m    102\u001b[0m       \u001b[0mforce_remount\u001b[0m\u001b[0;34m=\u001b[0m\u001b[0mforce_remount\u001b[0m\u001b[0;34m,\u001b[0m\u001b[0;34m\u001b[0m\u001b[0;34m\u001b[0m\u001b[0m\n",
            "\u001b[0;32m/usr/local/lib/python3.11/dist-packages/google/colab/drive.py\u001b[0m in \u001b[0;36m_mount\u001b[0;34m(mountpoint, force_remount, timeout_ms, ephemeral, readonly)\u001b[0m\n\u001b[1;32m    135\u001b[0m   )\n\u001b[1;32m    136\u001b[0m   \u001b[0;32mif\u001b[0m \u001b[0mephemeral\u001b[0m\u001b[0;34m:\u001b[0m\u001b[0;34m\u001b[0m\u001b[0;34m\u001b[0m\u001b[0m\n\u001b[0;32m--> 137\u001b[0;31m     _message.blocking_request(\n\u001b[0m\u001b[1;32m    138\u001b[0m         \u001b[0;34m'request_auth'\u001b[0m\u001b[0;34m,\u001b[0m\u001b[0;34m\u001b[0m\u001b[0;34m\u001b[0m\u001b[0m\n\u001b[1;32m    139\u001b[0m         \u001b[0mrequest\u001b[0m\u001b[0;34m=\u001b[0m\u001b[0;34m{\u001b[0m\u001b[0;34m'authType'\u001b[0m\u001b[0;34m:\u001b[0m \u001b[0;34m'dfs_ephemeral'\u001b[0m\u001b[0;34m}\u001b[0m\u001b[0;34m,\u001b[0m\u001b[0;34m\u001b[0m\u001b[0;34m\u001b[0m\u001b[0m\n",
            "\u001b[0;32m/usr/local/lib/python3.11/dist-packages/google/colab/_message.py\u001b[0m in \u001b[0;36mblocking_request\u001b[0;34m(request_type, request, timeout_sec, parent)\u001b[0m\n\u001b[1;32m    174\u001b[0m       \u001b[0mrequest_type\u001b[0m\u001b[0;34m,\u001b[0m \u001b[0mrequest\u001b[0m\u001b[0;34m,\u001b[0m \u001b[0mparent\u001b[0m\u001b[0;34m=\u001b[0m\u001b[0mparent\u001b[0m\u001b[0;34m,\u001b[0m \u001b[0mexpect_reply\u001b[0m\u001b[0;34m=\u001b[0m\u001b[0;32mTrue\u001b[0m\u001b[0;34m\u001b[0m\u001b[0;34m\u001b[0m\u001b[0m\n\u001b[1;32m    175\u001b[0m   )\n\u001b[0;32m--> 176\u001b[0;31m   \u001b[0;32mreturn\u001b[0m \u001b[0mread_reply_from_input\u001b[0m\u001b[0;34m(\u001b[0m\u001b[0mrequest_id\u001b[0m\u001b[0;34m,\u001b[0m \u001b[0mtimeout_sec\u001b[0m\u001b[0;34m)\u001b[0m\u001b[0;34m\u001b[0m\u001b[0;34m\u001b[0m\u001b[0m\n\u001b[0m",
            "\u001b[0;32m/usr/local/lib/python3.11/dist-packages/google/colab/_message.py\u001b[0m in \u001b[0;36mread_reply_from_input\u001b[0;34m(message_id, timeout_sec)\u001b[0m\n\u001b[1;32m    101\u001b[0m     ):\n\u001b[1;32m    102\u001b[0m       \u001b[0;32mif\u001b[0m \u001b[0;34m'error'\u001b[0m \u001b[0;32min\u001b[0m \u001b[0mreply\u001b[0m\u001b[0;34m:\u001b[0m\u001b[0;34m\u001b[0m\u001b[0;34m\u001b[0m\u001b[0m\n\u001b[0;32m--> 103\u001b[0;31m         \u001b[0;32mraise\u001b[0m \u001b[0mMessageError\u001b[0m\u001b[0;34m(\u001b[0m\u001b[0mreply\u001b[0m\u001b[0;34m[\u001b[0m\u001b[0;34m'error'\u001b[0m\u001b[0;34m]\u001b[0m\u001b[0;34m)\u001b[0m\u001b[0;34m\u001b[0m\u001b[0;34m\u001b[0m\u001b[0m\n\u001b[0m\u001b[1;32m    104\u001b[0m       \u001b[0;32mreturn\u001b[0m \u001b[0mreply\u001b[0m\u001b[0;34m.\u001b[0m\u001b[0mget\u001b[0m\u001b[0;34m(\u001b[0m\u001b[0;34m'data'\u001b[0m\u001b[0;34m,\u001b[0m \u001b[0;32mNone\u001b[0m\u001b[0;34m)\u001b[0m\u001b[0;34m\u001b[0m\u001b[0;34m\u001b[0m\u001b[0m\n\u001b[1;32m    105\u001b[0m \u001b[0;34m\u001b[0m\u001b[0m\n",
            "\u001b[0;31mMessageError\u001b[0m: Error: credential propagation was unsuccessful"
          ]
        }
      ],
      "source": [
        "from google.colab import drive\n",
        "# Mount(Connects) Google drive to colab\n",
        "drive.mount('/content/drive')"
      ]
    },
    {
      "cell_type": "code",
      "execution_count": null,
      "metadata": {
        "colab": {
          "base_uri": "https://localhost:8080/"
        },
        "id": "wZHw6IhNdMYY",
        "outputId": "3cce618d-ee0d-427a-e229-54be85257c2f"
      },
      "outputs": [
        {
          "name": "stdout",
          "output_type": "stream",
          "text": [
            "                0         1         2        3         4        5         6   \\\n",
            "0              the  0.418000  0.249680 -0.41242  0.121700  0.34527 -0.044457   \n",
            "1                ,  0.013441  0.236820 -0.16899  0.409510  0.63812  0.477090   \n",
            "2                .  0.151640  0.301770 -0.16763  0.176840  0.31719  0.339730   \n",
            "3               of  0.708530  0.570880 -0.47160  0.180480  0.54449  0.726030   \n",
            "4               to  0.680470 -0.039263  0.30186 -0.177920  0.42962  0.032246   \n",
            "...            ...       ...       ...      ...       ...      ...       ...   \n",
            "399995      chanty  0.232040  0.025672 -0.70699 -0.045465  0.13989 -0.628070   \n",
            "399996      kronik -0.609210 -0.672180  0.23521 -0.111950 -0.46094 -0.007462   \n",
            "399997     rolonda -0.511810  0.058706  1.09130 -0.551630 -0.10249 -0.126500   \n",
            "399998     zsombor -0.758980 -0.474260  0.47370  0.772500 -0.78064  0.232330   \n",
            "399999  sandberger  0.072617 -0.513930  0.47280 -0.522020 -0.35534  0.346290   \n",
            "\n",
            "              7         8         9   ...        41        42        43  \\\n",
            "0      -0.496880 -0.178620 -0.000660  ... -0.298710 -0.157490 -0.347580   \n",
            "1      -0.428520 -0.556410 -0.364000  ... -0.080262  0.630030  0.321110   \n",
            "2      -0.434780 -0.310860 -0.449990  ... -0.000064  0.068987  0.087939   \n",
            "3       0.181570 -0.523930  0.103810  ... -0.347270  0.284830  0.075693   \n",
            "4      -0.413760  0.132280 -0.298470  ... -0.094375  0.018324  0.210480   \n",
            "...          ...       ...       ...  ...       ...       ...       ...   \n",
            "399995  0.726250  0.341080  0.446140  ... -0.095526 -0.296050  0.385670   \n",
            "399996  0.255780  0.856320  0.055977  ...  0.672050 -0.598220 -0.202590   \n",
            "399997  0.995030  0.079711 -0.162460  ...  0.024747  0.200920 -1.085100   \n",
            "399998  0.046114  0.840140  0.243710  ...  0.454390 -0.842540  0.106500   \n",
            "399999  0.232110  0.230960  0.266940  ...  0.688800 -0.179860 -0.066569   \n",
            "\n",
            "              44        45        46        47        48        49        50  \n",
            "0      -0.045637 -0.442510  0.187850  0.002785 -0.184110 -0.115140 -0.785810  \n",
            "1      -0.467650  0.227860  0.360340 -0.378180 -0.566570  0.044691  0.303920  \n",
            "2      -0.102850 -0.139310  0.223140 -0.080803 -0.356520  0.016413  0.102160  \n",
            "3      -0.062178 -0.389880  0.229020 -0.216170 -0.225620 -0.093918 -0.803750  \n",
            "4      -0.030880 -0.197220  0.082279 -0.094340 -0.073297 -0.064699 -0.260440  \n",
            "...          ...       ...       ...       ...       ...       ...       ...  \n",
            "399995  0.136840  0.593310 -0.694860  0.124100 -0.180690 -0.258300 -0.039673  \n",
            "399996  0.392430  0.028873  0.030003 -0.106170 -0.114110 -0.249010 -0.120260  \n",
            "399997 -0.136260  0.350520 -0.858910  0.067858 -0.250030 -1.125000  1.586300  \n",
            "399998 -0.059397  0.090449  0.305810 -0.614240  0.789540 -0.014116  0.644800  \n",
            "399999 -0.480440 -0.559460 -0.275940  0.056072 -0.189070 -0.590210  0.555590  \n",
            "\n",
            "[400000 rows x 51 columns]\n"
          ]
        }
      ],
      "source": [
        "# giving the file path\n",
        "file_path = \"glove.6B.50d.txt\"\n",
        "\n",
        "# Read/open the text file into a DataFrame with space as the delimiter\n",
        "df = pd.read_csv(file_path, sep=\" \", header=None, quoting=3)\n",
        "\n",
        "print(df) # Just to keep checking things out\n"
      ]
    },
    {
      "cell_type": "code",
      "execution_count": null,
      "metadata": {
        "colab": {
          "base_uri": "https://localhost:8080/"
        },
        "id": "BbwKOTDweC42",
        "outputId": "8a94d2b9-5027-42da-b24f-7e0c43eace4c"
      },
      "outputs": [
        {
          "name": "stdout",
          "output_type": "stream",
          "text": [
            "     Label                                               Text\n",
            "0      ham  Go until jurong point, crazy.. Available only ...\n",
            "1      ham                      Ok lar... Joking wif u oni...\n",
            "2     spam  Free entry in 2 a wkly comp to win FA Cup fina...\n",
            "3      ham  U dun say so early hor... U c already then say...\n",
            "4      ham  Nah I don't think he goes to usf, he lives aro...\n",
            "...    ...                                                ...\n",
            "5567  spam  This is the 2nd time we have tried 2 contact u...\n",
            "5568   ham               Will ü b going to esplanade fr home?\n",
            "5569   ham  Pity, * was in mood for that. So...any other s...\n",
            "5570   ham  The guy did some bitching but I acted like i'd...\n",
            "5571   ham                         Rofl. Its true to its name\n",
            "\n",
            "[5572 rows x 2 columns]\n"
          ]
        }
      ],
      "source": [
        "# giving the file path\n",
        "file_path = \"SMSSpamCollection\"\n",
        "\n",
        "# Read/open the text file into a dataframe with tab as the delimiter\n",
        "df = pd.read_csv(file_path, sep=\"\\t\", header=None, names=[\"Label\", \"Text\"])\n",
        "\n",
        "print(df)"
      ]
    },
    {
      "cell_type": "code",
      "execution_count": null,
      "metadata": {
        "id": "JAdzZHGZl3C5"
      },
      "outputs": [],
      "source": [
        "# read each line of the text file and create a Pandas Data Frame\n",
        "# label spam messages as 1 and legit messages as 0\n",
        "\n",
        "text = [] # Making list called text\n",
        "label = [] # Making list called label\n",
        "\n",
        "with open(\"/content/SMSSpamCollection\") as f:\n",
        "\n",
        "    for line in f:\n",
        "        parts = line.split('\\t')\n",
        "        label.append(1 if parts[0] == 'spam' else 0)\n",
        "        text.append(parts[1].strip()) # Labelling data accordingly (by appending)"
      ]
    },
    {
      "cell_type": "code",
      "execution_count": null,
      "metadata": {
        "colab": {
          "base_uri": "https://localhost:8080/"
        },
        "id": "SRuld-70mCdT",
        "outputId": "c8b1d259-e078-4fb1-e0c6-9d3cadf3ea10"
      },
      "outputs": [
        {
          "name": "stdout",
          "output_type": "stream",
          "text": [
            "                                                   Text  Label  Text_Length\n",
            "0     Go until jurong point, crazy.. Available only ...      0           20\n",
            "1                         Ok lar... Joking wif u oni...      0            6\n",
            "2     Free entry in 2 a wkly comp to win FA Cup fina...      1           28\n",
            "3     U dun say so early hor... U c already then say...      0           11\n",
            "4     Nah I don't think he goes to usf, he lives aro...      0           13\n",
            "...                                                 ...    ...          ...\n",
            "5569  This is the 2nd time we have tried 2 contact u...      1           30\n",
            "5570               Will ü b going to esplanade fr home?      0            8\n",
            "5571  Pity, * was in mood for that. So...any other s...      0           10\n",
            "5572  The guy did some bitching but I acted like i'd...      0           26\n",
            "5573                         Rofl. Its true to its name      0            6\n",
            "\n",
            "[5574 rows x 3 columns]\n"
          ]
        }
      ],
      "source": [
        "# Creating a Dataframe\n",
        "sms = pd.DataFrame(zip(text, label), columns = [\"Text\", \"Label\"])\n",
        "# zip() pairs the elements from text and label\n",
        "# columns names then respectively\n",
        "sms['Text_Length'] = sms['Text'].apply(lambda x: len(x.split()))\n",
        "# A new column is added that stores the number of words in the text\n",
        "\n",
        "print(sms) # to check stuff"
      ]
    },
    {
      "cell_type": "code",
      "execution_count": null,
      "metadata": {
        "id": "KzOJgFYCmTPx"
      },
      "outputs": [],
      "source": [
        "# Loading a pre-trained English language model named 'en_core_web_sm'\n",
        "# Is from the spacy library, contains algos for processing English text (like tokenization)\n",
        "spacy_tokenizer = spacy.load('en_core_web_sm')\n",
        "\n",
        "# Defining a function that tokenizes a given text\n",
        "def tokenize (text):\n",
        "\n",
        "    # Using the re module to replace non-ASCII characters with a space\n",
        "    text = re.sub(r'[^\\x00-\\x7F]+', ' ', text)\n",
        "\n",
        "    # Replacing punctuation with empty string (basically removing it)\n",
        "    text = re.sub(r'[%s]' % re.escape(string.punctuation), '', text)\n",
        "\n",
        "    # Converting all text to lower case and tokenizes it\n",
        "    # Simultaneously adds it to the list called tokens\n",
        "    tokens = [token.text.lower() for token in spacy_tokenizer(text)]\n",
        "    return tokens"
      ]
    },
    {
      "cell_type": "code",
      "execution_count": null,
      "metadata": {
        "colab": {
          "base_uri": "https://localhost:8080/"
        },
        "id": "i5mH9RpmmsEl",
        "outputId": "c0c158b4-9367-442a-c473-bed8f1e1ee9e"
      },
      "outputs": [
        {
          "name": "stdout",
          "output_type": "stream",
          "text": [
            "                                                   Text  Label  Text_Length  \\\n",
            "0     Go until jurong point, crazy.. Available only ...      0           20   \n",
            "1                         Ok lar... Joking wif u oni...      0            6   \n",
            "2     Free entry in 2 a wkly comp to win FA Cup fina...      1           28   \n",
            "3     U dun say so early hor... U c already then say...      0           11   \n",
            "4     Nah I don't think he goes to usf, he lives aro...      0           13   \n",
            "...                                                 ...    ...          ...   \n",
            "5569  This is the 2nd time we have tried 2 contact u...      1           30   \n",
            "5570               Will ü b going to esplanade fr home?      0            8   \n",
            "5571  Pity, * was in mood for that. So...any other s...      0           10   \n",
            "5572  The guy did some bitching but I acted like i'd...      0           26   \n",
            "5573                         Rofl. Its true to its name      0            6   \n",
            "\n",
            "                                         Tokenized_Text  \n",
            "0     [go, until, jurong, point, crazy, available, o...  \n",
            "1                        [ok, lar, joking, wif, u, oni]  \n",
            "2     [free, entry, in, 2, a, wkly, comp, to, win, f...  \n",
            "3     [u, dun, say, so, early, hor, u, c, already, t...  \n",
            "4     [nah, i, do, nt, think, he, goes, to, usf, he,...  \n",
            "...                                                 ...  \n",
            "5569  [this, is, the, 2nd, time, we, have, tried, 2,...  \n",
            "5570      [will,   , b, going, to, esplanade, fr, home]  \n",
            "5571  [pity,  , was, in, mood, for, that, soany, oth...  \n",
            "5572  [the, guy, did, some, bitching, but, i, acted,...  \n",
            "5573                   [rofl, its, true, to, its, name]  \n",
            "\n",
            "[5574 rows x 4 columns]\n"
          ]
        }
      ],
      "source": [
        "# Tokenizing the text sms in the dataframe\n",
        "sms[\"Tokenized_Text\"] = sms[\"Text\"].apply(tokenize)\n",
        "\n",
        "print(sms) # To check the tokenization"
      ]
    },
    {
      "cell_type": "code",
      "execution_count": null,
      "metadata": {
        "id": "Vw0txfuIm29P"
      },
      "outputs": [],
      "source": [
        "# Defining a function that loads the glove embeddings from the downloaded file\n",
        "# And creates a dictionary of the form { word : word embedding}\n",
        "def load_GloVe_embeddings(glove_file):\n",
        "    embeddings = {}\n",
        "    with open(glove_file, 'r', encoding='utf-8') as f:\n",
        "# encoding is specified to read the text properly if it contains non-ASCII\n",
        "\n",
        "     for line in f:\n",
        "          values = line.split()\n",
        "          word = values[0]\n",
        "          word_vector = np.asarray(values[1:], dtype= 'float32')\n",
        "          embeddings[word] = word_vector\n",
        "          vocab_size = len(embeddings)\n",
        "    return embeddings\n",
        "\n",
        "# word_embeddings stores the glove as a dictionary\n",
        "word_embeddings = load_GloVe_embeddings(\"/content/glove.6B.50d.txt\")\n",
        "\n",
        "# print(vocab_size)\n",
        "# To print the dictionary out\n",
        "# for key, value in word_embeddings.items():\n",
        "# print(key, \":\", value)"
      ]
    },
    {
      "cell_type": "code",
      "execution_count": null,
      "metadata": {
        "id": "o-O4DeKRnjL8"
      },
      "outputs": [],
      "source": [
        "# Function that converts tokenized text into vectors using the word_embeddings dictionary\n",
        "# Optional parameters are specified too\n",
        "def embed_text(tokenized_text, word_embeddings, max_text_length=20, embedding_size = 50):\n",
        "    embedded_text = []\n",
        "    for token in tokenized_text:\n",
        "        if token in word_embeddings:\n",
        "            embedded_text.append(word_embeddings[token])\n",
        "        else:\n",
        "            embedded_text.append(np.zeros(embedding_size))\n",
        "    return np.array(embedded_text)\n",
        "    \"\"\"\n",
        "        given a sequence of tokens convert them to their word embeddings\n",
        "    \"\"\""
      ]
    },
    {
      "cell_type": "code",
      "execution_count": null,
      "metadata": {
        "colab": {
          "base_uri": "https://localhost:8080/"
        },
        "id": "MmOFLtqbn-2w",
        "outputId": "6d131384-d848-4870-d011-b7166d7cd3eb"
      },
      "outputs": [
        {
          "name": "stdout",
          "output_type": "stream",
          "text": [
            "                                                   Text  Label  Text_Length  \\\n",
            "0     Go until jurong point, crazy.. Available only ...      0           20   \n",
            "1                         Ok lar... Joking wif u oni...      0            6   \n",
            "2     Free entry in 2 a wkly comp to win FA Cup fina...      1           28   \n",
            "3     U dun say so early hor... U c already then say...      0           11   \n",
            "4     Nah I don't think he goes to usf, he lives aro...      0           13   \n",
            "...                                                 ...    ...          ...   \n",
            "5569  This is the 2nd time we have tried 2 contact u...      1           30   \n",
            "5570               Will ü b going to esplanade fr home?      0            8   \n",
            "5571  Pity, * was in mood for that. So...any other s...      0           10   \n",
            "5572  The guy did some bitching but I acted like i'd...      0           26   \n",
            "5573                         Rofl. Its true to its name      0            6   \n",
            "\n",
            "                                         Tokenized_Text  \\\n",
            "0     [go, until, jurong, point, crazy, available, o...   \n",
            "1                        [ok, lar, joking, wif, u, oni]   \n",
            "2     [free, entry, in, 2, a, wkly, comp, to, win, f...   \n",
            "3     [u, dun, say, so, early, hor, u, c, already, t...   \n",
            "4     [nah, i, do, nt, think, he, goes, to, usf, he,...   \n",
            "...                                                 ...   \n",
            "5569  [this, is, the, 2nd, time, we, have, tried, 2,...   \n",
            "5570      [will,   , b, going, to, esplanade, fr, home]   \n",
            "5571  [pity,  , was, in, mood, for, that, soany, oth...   \n",
            "5572  [the, guy, did, some, bitching, but, i, acted,...   \n",
            "5573                   [rofl, its, true, to, its, name]   \n",
            "\n",
            "                                          Embedded_Text  \n",
            "0     [[0.14828, 0.17761, 0.42346, -0.31489, 0.32273...  \n",
            "1     [[-0.53646, -0.072432, 0.24182, 0.099021, 0.18...  \n",
            "2     [[-0.41183000802993774, 0.4528000056743622, 0....  \n",
            "3     [[-0.25676, 0.8549, 1.1003, 0.95363, 0.36585, ...  \n",
            "4     [[0.50959, 1.2707, -0.078318, -1.4834, -0.3478...  \n",
            "...                                                 ...  \n",
            "5569  [[0.5307400226593018, 0.4011699855327606, -0.4...  \n",
            "5570  [[0.8154399991035461, 0.30171000957489014, 0.5...  \n",
            "5571  [[-0.05248900130391121, 0.3052400052547455, -0...  \n",
            "5572  [[0.418, 0.24968, -0.41242, 0.1217, 0.34527, -...  \n",
            "5573  [[0.0, 0.0, 0.0, 0.0, 0.0, 0.0, 0.0, 0.0, 0.0,...  \n",
            "\n",
            "[5574 rows x 5 columns]\n"
          ]
        }
      ],
      "source": [
        "# Adding a column called Embedded_Text that contains the word embeddings\n",
        "sms[\"Embedded_Text\"] = sms[\"Tokenized_Text\"].apply(lambda x: embed_text(x, word_embeddings))\n",
        "print(sms)"
      ]
    },
    {
      "cell_type": "code",
      "execution_count": null,
      "metadata": {
        "id": "WtOWOOv_jYPF"
      },
      "outputs": [],
      "source": [
        "# Making a custom dataset class called load_dataset which inherits from Dataset\n",
        "# Dataset is a useful class provided in PyTorch\n",
        "# Defining the dataset class\n",
        "class load_dataset(Dataset):\n",
        "    def __init__(self, X, Y): # Function to initialise an instance of load_dataset\n",
        "        \"\"\"\n",
        "        X: the embeddings of the sentence\n",
        "        Y: ground truth of the sentence (0- positive, 1- negative)\n",
        "        \"\"\"\n",
        "        self.X = X\n",
        "        self.y = Y\n",
        "\n",
        "    def __len__(self): # Finding the length of the dataset (no. of samples)\n",
        "        return len(self.y)  # Is needed by the DataLoader\n",
        "\n",
        "    def __getitem__(self, idx): # Indexing the dataset to retrieve individual samples\n",
        "        return self.X[idx], self.y[idx]  # Takes an index 'idx' and returns the corresponding sample\n",
        "\n",
        "# DataLoader is a class that works on a DataSet and provides features\n",
        "# Like Batching, Shuffling and more\n",
        "# The output size is 2 as its either spam or ham"
      ]
    },
    {
      "cell_type": "code",
      "execution_count": null,
      "metadata": {
        "id": "q6fuH7svjYRr"
      },
      "outputs": [],
      "source": [
        "# Input tensor x is of size (batch_size, sequence_length, input_size)\n",
        "# Output tensor out is of shape (batch_size, sequence_length, hidden_size)\n",
        "\n",
        "# Defining the RNN class\n",
        "class RNN(nn.Module):\n",
        "    def __init__(self, input_size, hidden_size, num_layers):\n",
        "        super(RNN, self).__init__()\n",
        "        self.hidden_size = hidden_size\n",
        "        self.num_layers = num_layers\n",
        "        self.rnn = nn.RNN(input_size, hidden_size, num_layers, batch_first=True)\n",
        "        self.fc = nn.Linear(hidden_size, 2) # fc = fully connected => Linear layer\n",
        "\n",
        "    # Forward Propagation\n",
        "    def forward(self, x):\n",
        "        h0 = torch.zeros(self.num_layers, x.size(0), self.hidden_size)\n",
        "        # Passing the input 'x' and the initial hidden state 'h0' through the RNN layer\n",
        "        out, _ = self.rnn(x, h0)\n",
        "        # 'out' contains the output features from the RNN  for each time step in the sequence\n",
        "        # The second output _ (not used) is the hidden state for the last time step\n",
        "\n",
        "        # Only the last output goes to the fully connected layer\n",
        "        # : selects all the elements of that dimension, -1 selects the last one\n",
        "        out = self.fc(out[:, -1, :])\n",
        "        # Hence the size of tensor out becomes (batch_size, hidden_size)\n",
        "        return out\n",
        "        # The fully connected layer maps the hidden state of the last time step\n",
        "        # to the output size of 2"
      ]
    },
    {
      "cell_type": "code",
      "execution_count": null,
      "metadata": {
        "id": "jsbqhwVyNPW2"
      },
      "outputs": [],
      "source": [
        "# Function that trains the model completely\n",
        "# train_loader is a data loader that would give batche sof inputs and labels\n",
        "# model is the nn that will be trained\n",
        "# criterion is the loss function to be used\n",
        "# optimizer is the algorithm used (to update model parameters)\n",
        "# 1 step is the full training of one batch of data\n",
        "\n",
        "def train_model(num_epochs, train_loader, model, criterion, optimizer):\n",
        "    total_step = len(train_loader)  # Number of batches in 1 epoch\n",
        "    train_losses = []  # List to store the training loss for each epoch\n",
        "\n",
        "    for epoch in range(num_epochs):  # Iterating over all epochs\n",
        "        epoch_loss = 0  # Initialize epoch loss\n",
        "\n",
        "        for i, (inputs, labels) in enumerate(train_loader):  # Iterating over each batch\n",
        "            inputs = inputs.float()\n",
        "            # To make data into floating point format as needed by nn models in pytorch\n",
        "\n",
        "            # Forward pass\n",
        "            outputs = model(inputs)  # Putting input to get outputs\n",
        "            loss = criterion(outputs, labels)  # Calculating loss by supervised learning\n",
        "\n",
        "            # Back pass and optimize\n",
        "            optimizer.zero_grad()  # Setting all grads to 0 to avoid accumulation over batches\n",
        "            loss.backward()  # Back propagation\n",
        "            optimizer.step()  # Updating all values\n",
        "\n",
        "            epoch_loss += loss.item()  # Accumulating the loss for each epoch\n",
        "\n",
        "            if (i + 1) % 100 == 0:  # Checking the training process every 100 steps\n",
        "                print(f'Epoch [{epoch + 1}/{num_epochs}], Step [{i + 1}/{total_step}], Loss: {loss.item():.4f}')\n",
        "                # loss.item() gives the scalar value of the loss tensor\n",
        "                # It is displayed to 4 decimal places using .4f\n",
        "                # Note that indexing starts at 0 everywhere\n",
        "\n",
        "        train_losses.append(epoch_loss / total_step)  # Calculating average loss for each epoch and storing\n",
        "\n",
        "    return train_losses  # Return the list of training losses\n"
      ]
    },
    {
      "cell_type": "code",
      "execution_count": 20,
      "metadata": {
        "colab": {
          "base_uri": "https://localhost:8080/",
          "height": 819
        },
        "id": "QSdAPDtGPJM4",
        "outputId": "47b15a58-1d03-4522-c8dd-700a65866422"
      },
      "outputs": [
        {
          "name": "stdout",
          "output_type": "stream",
          "text": [
            "Epoch [1/20], Step [100/140], Loss: 0.3899\n",
            "Epoch [2/20], Step [100/140], Loss: 0.0631\n",
            "Epoch [3/20], Step [100/140], Loss: 0.2084\n",
            "Epoch [4/20], Step [100/140], Loss: 0.1586\n",
            "Epoch [5/20], Step [100/140], Loss: 0.0582\n",
            "Epoch [6/20], Step [100/140], Loss: 0.0239\n",
            "Epoch [7/20], Step [100/140], Loss: 0.0230\n",
            "Epoch [8/20], Step [100/140], Loss: 0.0403\n",
            "Epoch [9/20], Step [100/140], Loss: 0.2883\n",
            "Epoch [10/20], Step [100/140], Loss: 0.1140\n",
            "Epoch [11/20], Step [100/140], Loss: 0.0889\n",
            "Epoch [12/20], Step [100/140], Loss: 0.1018\n",
            "Epoch [13/20], Step [100/140], Loss: 0.0255\n",
            "Epoch [14/20], Step [100/140], Loss: 0.1457\n",
            "Epoch [15/20], Step [100/140], Loss: 0.0203\n",
            "Epoch [16/20], Step [100/140], Loss: 0.0307\n",
            "Epoch [17/20], Step [100/140], Loss: 0.1592\n",
            "Epoch [18/20], Step [100/140], Loss: 0.0163\n",
            "Epoch [19/20], Step [100/140], Loss: 0.0126\n",
            "Epoch [20/20], Step [100/140], Loss: 0.0998\n"
          ]
        },
        {
          "data": {
            "image/png": "[encoded data removed]",
            "text/plain": [
              "<Figure size 640x480 with 1 Axes>"
            ]
          },
          "metadata": {},
          "output_type": "display_data"
        }
      ],
      "source": [
        "# Function to pad sequences\n",
        "def pad_sequences(sequences, max_len, embedding_size):\n",
        "    padded_sequences = []\n",
        "    for seq in sequences:\n",
        "        seq_tensor = torch.tensor(seq)\n",
        "        if len(seq_tensor) < max_len:\n",
        "            padding = torch.zeros((max_len - len(seq_tensor), embedding_size))\n",
        "            padded_seq = torch.cat((seq_tensor, padding), dim=0)\n",
        "        else:\n",
        "            padded_seq = seq_tensor[:max_len]\n",
        "        padded_sequences.append(padded_seq)\n",
        "    return torch.stack(padded_sequences)\n",
        "\n",
        "# Hyperparameters\n",
        "input_size = 50\n",
        "hidden_size = 10\n",
        "num_layers = 2\n",
        "learning_rate = 0.001\n",
        "batch_size = 32\n",
        "num_epochs = 20\n",
        "max_len = 25\n",
        "\n",
        "# Splitting dataset\n",
        "X_train, X_test, y_train, y_test = train_test_split(sms[\"Embedded_Text\"].values, sms[\"Label\"].values, test_size=0.2, random_state=42)\n",
        "\n",
        "# Padding the sequences\n",
        "X_train_padded = pad_sequences(X_train, max_len, input_size)\n",
        "X_test_padded = pad_sequences(X_test, max_len, input_size)\n",
        "\n",
        "# Converting labels to tensors\n",
        "y_train_tensor = torch.tensor(y_train)\n",
        "y_test_tensor = torch.tensor(y_test)\n",
        "\n",
        "# Create DataLoader objects\n",
        "train_dataset = load_dataset(X_train_padded, y_train_tensor)\n",
        "train_loader = DataLoader(dataset=train_dataset, batch_size=batch_size, shuffle=True)\n",
        "\n",
        "# Initialize the model\n",
        "model = RNN(input_size, hidden_size, num_layers)\n",
        "\n",
        "# Loss and optimizer\n",
        "criterion = nn.CrossEntropyLoss() # Cross-Entropy is used for classification tasks\n",
        "optimizer = torch.optim.Adam(model.parameters(), lr=learning_rate)\n",
        "\n",
        "\n",
        "# Train the model\n",
        "train_losses = train_model(num_epochs, train_loader, model, criterion, optimizer)\n",
        "\n",
        "# Plotting the loss\n",
        "plt.plot(range(1, num_epochs + 1), train_losses)\n",
        "plt.title('Loss vs Epochs')\n",
        "plt.xlabel('Epochs')\n",
        "plt.ylabel('Loss')\n",
        "plt.legend()\n",
        "\n",
        "# Save the model as a .pth file\n",
        "torch.save(model.state_dict(), 'rnn_model.pth')"
      ]
    },
    {
      "cell_type": "code",
      "execution_count": 21,
      "metadata": {
        "colab": {
          "base_uri": "https://localhost:8080/",
          "height": 623
        },
        "id": "zUS4H22jWOOU",
        "outputId": "c54d5ac1-ad7d-46db-dae4-943fed048425"
      },
      "outputs": [
        {
          "name": "stdout",
          "output_type": "stream",
          "text": [
            "Accuracy on the test set: 97.04%\n"
          ]
        },
        {
          "data": {
            "image/png": "[encoded data removed]",
            "text/plain": [
              "<Figure size 640x480 with 2 Axes>"
            ]
          },
          "metadata": {},
          "output_type": "display_data"
        },
        {
          "name": "stdout",
          "output_type": "stream",
          "text": [
            "              precision    recall  f1-score   support\n",
            "\n",
            "     Class 0       0.98      0.99      0.98       954\n",
            "     Class 1       0.93      0.86      0.89       161\n",
            "\n",
            "    accuracy                           0.97      1115\n",
            "   macro avg       0.95      0.92      0.94      1115\n",
            "weighted avg       0.97      0.97      0.97      1115\n",
            "\n"
          ]
        }
      ],
      "source": [
        "# Function to test the model\n",
        "def test_model(model, X_test_padded, y_test_tensor):\n",
        "    model.eval()  # Set the model to evaluation mode\n",
        "    with torch.no_grad():  # Disable gradient calculation\n",
        "        # Convert test data to tensor\n",
        "        X_test_tensor = torch.tensor(X_test_padded).float()\n",
        "\n",
        "        # Get model predictions\n",
        "        outputs = model(X_test_tensor)\n",
        "        _, predicted = torch.max(outputs.data, 1)\n",
        "\n",
        "        # Calculate accuracy\n",
        "        correct = (predicted == y_test_tensor).sum().item()\n",
        "        accuracy = correct / y_test_tensor.size(0)\n",
        "\n",
        "        print(f'Accuracy on the test set: {accuracy * 100:.2f}%')\n",
        "\n",
        "    return predicted\n",
        "\n",
        "# Test the model\n",
        "predicted = test_model(model, X_test_padded, y_test_tensor)\n",
        "\n",
        "# Plotting confusion matrix and other metrics\n",
        "from sklearn.metrics import confusion_matrix, classification_report, ConfusionMatrixDisplay\n",
        "\n",
        "# Calculate confusion matrix\n",
        "conf_matrix = confusion_matrix(y_test_tensor.numpy(), predicted.numpy())\n",
        "\n",
        "# Display the confusion matrix\n",
        "disp = ConfusionMatrixDisplay(confusion_matrix=conf_matrix)\n",
        "disp.plot(cmap='Blues')\n",
        "plt.show()\n",
        "\n",
        "# Print classification report\n",
        "print(classification_report(y_test_tensor.numpy(), predicted.numpy(), target_names=[\"Class 0\", \"Class 1\"]))\n"
      ]
    },
    {
      "cell_type": "markdown",
      "metadata": {
        "id": "kVVrT9m0HDFq"
      },
      "source": [
        "# Handy Definitions\n",
        "# epoch = 1 forward and backwartd pass of ALL training samples\n",
        "# batch_size = number of training samples(sequences) in one forward and backward pass i.e, in one batch\n",
        "# number of iterations = number of passes, each pass using [batch_size] number of samples\n",
        "# e.g. 100 samples, batch_size=20 --> 100/20 = 5 iterations for 1 epoch\n",
        "# sequence_length = The length of each sequence ( number of time steps)\n",
        "# hidden_size = The number of features in the hidden state of the RNN"
      ]
    }
  ],
  "metadata": {
    "colab": {
      "provenance": []
    },
    "kernelspec": {
      "display_name": "Python 3",
      "name": "python3"
    },
    "language_info": {
      "name": "python"
    }
  },
  "nbformat": 4,
  "nbformat_minor": 0
}
